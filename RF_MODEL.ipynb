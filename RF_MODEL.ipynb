{
 "cells": [
  {
   "cell_type": "code",
   "execution_count": 1,
   "metadata": {},
   "outputs": [],
   "source": [
    "#Importing Libraries \n",
    "import pandas as pd\n",
    "import matplotlib.pyplot as plt\n",
    "import numpy as np\n",
    "import seaborn as sns\n",
    "from sklearn.ensemble import RandomForestClassifier\n",
    "from sklearn.model_selection import train_test_split\n",
    "from sklearn.metrics import confusion_matrix\n",
    "from sklearn.metrics import accuracy_score, log_loss\n",
    "from sklearn import metrics\n",
    "from sklearn.preprocessing import LabelEncoder,OneHotEncoder\n",
    "from sklearn.model_selection import cross_val_score\n",
    "from sklearn.metrics import roc_auc_score, roc_curve\n",
    "from sklearn.preprocessing import label_binarize\n",
    "from itertools import cycle\n",
    "from sklearn.calibration import calibration_curve"
   ]
  },
  {
   "cell_type": "code",
   "execution_count": 10,
   "metadata": {},
   "outputs": [
    {
     "name": "stdout",
     "output_type": "stream",
     "text": [
      "\n",
      "Dimensões do Banco de Dados:\n",
      "(24445, 16)\n",
      "\n",
      "\n",
      "Campos do Banco de Dados:\n",
      "['FID', 'ASA', 'CTEXP', 'eTH', 'eU', 'KPERC', 'MAGIGRF', 'MDT', 'ThetaMap', 'THKRAZAO', 'UKRAZAO', 'UTHRAZAO', 'X', 'Y', 'Cod_Litho', 'Geologia_R']\n",
      "\n",
      "\n",
      "Tipos dos dados:\n",
      "FID             int64\n",
      "ASA           float64\n",
      "CTEXP         float64\n",
      "eTH           float64\n",
      "eU            float64\n",
      "KPERC         float64\n",
      "MAGIGRF       float64\n",
      "MDT           float64\n",
      "ThetaMap      float64\n",
      "THKRAZAO      float64\n",
      "UKRAZAO       float64\n",
      "UTHRAZAO      float64\n",
      "X             float64\n",
      "Y             float64\n",
      "Cod_Litho       int64\n",
      "Geologia_R     object\n",
      "dtype: object\n",
      "\n",
      "     FID       ASA    CTEXP      eTH      eU   KPERC  MAGIGRF       MDT  \\\n",
      "0  33000  1.391664  14.5686  33.2842  4.6322  1.3226  -44.040  1017.668   \n",
      "1  33001  1.418129  14.6224  33.5233  4.6803  1.2919  -30.078  1018.322   \n",
      "2  33002  1.444594  14.6762  33.7624  4.7284  1.2612  -15.955  1018.976   \n",
      "3  33003  1.486182  14.7300  34.0015  4.7765  1.2305    5.216  1019.630   \n",
      "4  33004  1.497524  14.7838  34.2406  4.8246  1.1998   12.180  1020.284   \n",
      "\n",
      "   ThetaMap  THKRAZAO  UKRAZAO  UTHRAZAO         X          Y  Cod_Litho  \\\n",
      "0  0.414742   25.8446   2.9392    0.1142  326327.0  7946600.0          1   \n",
      "1  0.505474   25.5529   2.9218    0.1148  326327.0  7946607.0          1   \n",
      "2  0.580579   25.2612   2.9044    0.1154  326327.0  7946614.0          1   \n",
      "3  0.679375   24.9695   2.8870    0.1160  326327.0  7946621.0          1   \n",
      "4  0.703381   24.6778   2.8696    0.1166  326327.0  7946628.0          1   \n",
      "\n",
      "                         Geologia_R  INDICELATE  \n",
      "0  Coberturas detrítico-lateríticas    1.559451  \n",
      "1  Coberturas detrítico-lateríticas    1.560159  \n",
      "2  Coberturas detrítico-lateríticas    1.560833  \n",
      "3  Coberturas detrítico-lateríticas    1.561474  \n",
      "4  Coberturas detrítico-lateríticas    1.562083  \n"
     ]
    }
   ],
   "source": [
    "#Setting the training dataset\n",
    "df1=pd.read_csv(\"D:/TCC/3013_Litho_Train.csv\", sep=\";\")\n",
    "\n",
    "Train_3013 = df1.copy()\n",
    "\n",
    "\n",
    "Train_3013.head()\n",
    "print(\"\\nDimensões do Banco de Dados:\\n{0}\\n\".format(df1.shape))\n",
    "print(\"\\nCampos do Banco de Dados:\\n{0}\\n\".format(list(df1.keys())))\n",
    "print(\"\\nTipos dos dados:\\n{0}\\n\".format(df1.dtypes))\n",
    "\n",
    "#Updating the columns of the radioelements and creation of Lateritic Index\n",
    "columns_to_update2 = ['KPERC','eU','eTH']\n",
    "Train_3013[columns_to_update2] = Train_3013[columns_to_update2].map(lambda x: 0.0001 if x<0 else x)\n",
    "Train_3013['INDICELATE'] = np.arctan((Train_3013['eU']/ Train_3013['KPERC']) * (Train_3013['eTH'] /Train_3013['KPERC']))\n",
    "print(Train_3013.head())\n",
    "\n",
    "#New CSV file processed\n",
    "csv_file_path = 'D:/TCC/3013_Litho_Train_Proc.csv'\n",
    "Train_3013.to_csv(csv_file_path, index=False)"
   ]
  },
  {
   "cell_type": "code",
   "execution_count": 8,
   "metadata": {},
   "outputs": [
    {
     "name": "stdout",
     "output_type": "stream",
     "text": [
      "FID                  int64               \n",
      "ASA                  float64             \n",
      "CTEXP                float64             \n",
      "eTH                  float64             \n",
      "eU                   float64             \n",
      "KPERC                float64             \n",
      "MAGIGRF              float64             \n",
      "MDT                  float64             \n",
      "ThetaMap             float64             \n",
      "THKRAZAO             float64             \n",
      "UKRAZAO              float64             \n",
      "UTHRAZAO             float64             \n",
      "X                    float64             \n",
      "Y                    float64             \n",
      "Cod_Litho            int64               \n",
      "Geologia_R           object              \n",
      "INDICELATE           float64             \n"
     ]
    }
   ],
   "source": [
    "fields = list(Train_3013.columns)\n",
    "data_types = Train_3013.dtypes.astype(str)\n",
    "\n",
    "# Creating an executive Summary\n",
    "summary_df = pd.DataFrame({\n",
    "    'Campo do Banco de Dados': fields,\n",
    "    'Tipo de Dados': data_types,\n",
    "})\n",
    "\n",
    "\n",
    "for index, row in summary_df.iterrows():\n",
    "    print(\"{:<20} {:<20}\".format(row['Campo do Banco de Dados'], row['Tipo de Dados']))"
   ]
  },
  {
   "cell_type": "code",
   "execution_count": 13,
   "metadata": {},
   "outputs": [
    {
     "name": "stdout",
     "output_type": "stream",
     "text": [
      "   FID       ASA   CTEXP      eTH      eU   KPERC  MAGIGRF      MDT  ThetaMap  \\\n",
      "0    0  0.006685  5.7220  11.7470  1.0710  1.0970   34.498  976.020  0.281671   \n",
      "1    1  0.006665  5.6008  11.4764  1.0563  1.0745   34.390  976.726  0.348877   \n",
      "2    2  0.006671  5.4796  11.2058  1.0416  1.0520   34.349  977.432  0.370654   \n",
      "3    3  0.006664  5.3584  10.9352  1.0269  1.0295   34.308  978.138  0.391241   \n",
      "4    4  0.006644  5.2372  10.6646  1.0122  1.0070   34.210  978.844  0.443395   \n",
      "\n",
      "   THKRAZAO  UKRAZAO  UTHRAZAO         X          Y  Cod_Litho Geologia_R  \\\n",
      "0    9.3670   0.8980    0.0960  319973.0  7938016.0        NaN              \n",
      "1    9.3756   0.8914    0.0952  319973.3  7938023.4        NaN              \n",
      "2    9.3842   0.8848    0.0944  319973.6  7938030.8        NaN              \n",
      "3    9.3928   0.8782    0.0936  319973.9  7938038.2        NaN              \n",
      "4    9.4014   0.8716    0.0928  319974.2  7938045.6        NaN              \n",
      "\n",
      "   INDICELATE  \n",
      "0    1.475434  \n",
      "1    1.475843  \n",
      "2    1.476262  \n",
      "3    1.476691  \n",
      "4    1.477132  \n"
     ]
    }
   ],
   "source": [
    "#Setting the test dataset\n",
    "df=pd.read_csv(\"D:/TCC/3013_Litho_Test.csv\", sep=\";\")\n",
    "Test_3013 = df.copy()\n",
    "\n",
    "\n",
    "Test_3013.head()\n",
    "\n",
    "#Updating the columns of the radioelements and creation of Lateritic Index\n",
    "columns_to_update = ['KPERC','eU','eTH']\n",
    "Test_3013[columns_to_update] = Test_3013[columns_to_update].map(lambda x: 0.0001 if x<0 else x)\n",
    "Test_3013['INDICELATE'] = np.arctan((Test_3013['eU']/ Test_3013['KPERC']) * (Test_3013['eTH'] /Test_3013['KPERC']))\n",
    "print(Test_3013.head())\n",
    "\n",
    "#New CSV file processed\n",
    "csv_file_path = 'D:/TCC/3013_Litho_Test_Proc.csv'\n",
    "Test_3013.to_csv(csv_file_path, index=False)"
   ]
  },
  {
   "cell_type": "code",
   "execution_count": 16,
   "metadata": {},
   "outputs": [
    {
     "name": "stdout",
     "output_type": "stream",
     "text": [
      "\n",
      "Dimensões do Banco de Dados:\n",
      "(24445, 17)\n",
      "\n",
      "\n",
      "Campos do Banco de Dados:\n",
      "['FID', 'ASA', 'CTEXP', 'eTH', 'eU', 'KPERC', 'MAGIGRF', 'MDT', 'ThetaMap', 'THKRAZAO', 'UKRAZAO', 'UTHRAZAO', 'X', 'Y', 'Cod_Litho', 'Geologia_R', 'INDICELATE']\n",
      "\n",
      "\n",
      "Tipos dos dados:\n",
      "FID             int64\n",
      "ASA           float64\n",
      "CTEXP         float64\n",
      "eTH           float64\n",
      "eU            float64\n",
      "KPERC         float64\n",
      "MAGIGRF       float64\n",
      "MDT           float64\n",
      "ThetaMap      float64\n",
      "THKRAZAO      float64\n",
      "UKRAZAO       float64\n",
      "UTHRAZAO      float64\n",
      "X             float64\n",
      "Y             float64\n",
      "Cod_Litho       int64\n",
      "Geologia_R     object\n",
      "INDICELATE    float64\n",
      "dtype: object\n",
      "\n"
     ]
    }
   ],
   "source": [
    "df_train=pd.read_csv(\"D:/TCC/3013_Litho_Train_Proc.csv\", sep=\",\")\n",
    "df_train.head()\n",
    "print(\"\\nDimensões do Banco de Dados:\\n{0}\\n\".format(df_train.shape))\n",
    "print(\"\\nCampos do Banco de Dados:\\n{0}\\n\".format(list(df_train.keys())))\n",
    "print(\"\\nTipos dos dados:\\n{0}\\n\".format(df_train.dtypes))"
   ]
  },
  {
   "cell_type": "code",
   "execution_count": null,
   "metadata": {},
   "outputs": [],
   "source": [
    "#Generating the Covariance and Correlation Matrices\n",
    "columns_to_select = ['MDT', 'ASA', 'ThetaMap', 'KPERC', 'eTH', 'eU', 'THKRAZAO', 'UKRAZAO', 'UTHRAZAO','INDICELATE']\n",
    "Variaveis = Train_3013[columns_to_select]\n",
    "\n",
    "covariance_matrix = Variaveis.cov()\n",
    "correlation_matrix = Variaveis.corr()\n",
    "\n",
    "# Print Matrices\n",
    "print(\"Covariance Matrix:\")\n",
    "print(covariance_matrix)\n",
    "\n",
    "print(\"\\nCorrelation Matrix:\")\n",
    "print(correlation_matrix)"
   ]
  },
  {
   "cell_type": "code",
   "execution_count": null,
   "metadata": {},
   "outputs": [],
   "source": [
    "#Generating the Covariance and Correlation Matrices\n",
    "columns_to_select = ['MDT', 'ASA', 'ThetaMap', 'KPERC', 'eTH', 'eU', 'THKRAZAO', 'UKRAZAO', 'UTHRAZAO','INDICELATE']\n",
    "Variaveis = Test_3013[columns_to_select]\n",
    "\n",
    "covariance_matrix = Variaveis.cov()\n",
    "correlation_matrix = Variaveis.corr()\n",
    "\n",
    "# Print Matrices\n",
    "print(\"Covariance Matrix:\")\n",
    "print(covariance_matrix)\n",
    "\n",
    "print(\"\\nCorrelation Matrix:\")\n",
    "print(correlation_matrix)\n"
   ]
  },
  {
   "cell_type": "code",
   "execution_count": 4,
   "metadata": {},
   "outputs": [
    {
     "name": "stdout",
     "output_type": "stream",
     "text": [
      "\n",
      "Dimensões do Banco de Dados:\n",
      "(94386, 17)\n",
      "\n",
      "\n",
      "Campos do Banco de Dados:\n",
      "['FID', 'ASA', 'CTEXP', 'eTH', 'eU', 'KPERC', 'MAGIGRF', 'MDT', 'ThetaMap', 'THKRAZAO', 'UKRAZAO', 'UTHRAZAO', 'X', 'Y', 'Cod_Litho', 'Geologia_R', 'INDICELATE']\n",
      "\n",
      "\n",
      "Tipos dos dados:\n",
      "FID             int64\n",
      "ASA           float64\n",
      "CTEXP         float64\n",
      "eTH           float64\n",
      "eU            float64\n",
      "KPERC         float64\n",
      "MAGIGRF       float64\n",
      "MDT           float64\n",
      "ThetaMap      float64\n",
      "THKRAZAO      float64\n",
      "UKRAZAO       float64\n",
      "UTHRAZAO      float64\n",
      "X             float64\n",
      "Y             float64\n",
      "Cod_Litho     float64\n",
      "Geologia_R     object\n",
      "INDICELATE    float64\n",
      "dtype: object\n",
      "\n"
     ]
    }
   ],
   "source": [
    "df_test=pd.read_csv(\"D:/TCC/3013_Litho_Test_Proc.csv\", sep=\";\")\n",
    "df_test.head()\n",
    "print(\"\\nDimensões do Banco de Dados:\\n{0}\\n\".format(df_test.shape))\n",
    "print(\"\\nCampos do Banco de Dados:\\n{0}\\n\".format(list(df_test.keys())))\n",
    "print(\"\\nTipos dos dados:\\n{0}\\n\".format(df_test.dtypes))"
   ]
  },
  {
   "cell_type": "code",
   "execution_count": 17,
   "metadata": {},
   "outputs": [
    {
     "data": {
      "text/html": [
       "<style>#sk-container-id-1 {color: black;}#sk-container-id-1 pre{padding: 0;}#sk-container-id-1 div.sk-toggleable {background-color: white;}#sk-container-id-1 label.sk-toggleable__label {cursor: pointer;display: block;width: 100%;margin-bottom: 0;padding: 0.3em;box-sizing: border-box;text-align: center;}#sk-container-id-1 label.sk-toggleable__label-arrow:before {content: \"▸\";float: left;margin-right: 0.25em;color: #696969;}#sk-container-id-1 label.sk-toggleable__label-arrow:hover:before {color: black;}#sk-container-id-1 div.sk-estimator:hover label.sk-toggleable__label-arrow:before {color: black;}#sk-container-id-1 div.sk-toggleable__content {max-height: 0;max-width: 0;overflow: hidden;text-align: left;background-color: #f0f8ff;}#sk-container-id-1 div.sk-toggleable__content pre {margin: 0.2em;color: black;border-radius: 0.25em;background-color: #f0f8ff;}#sk-container-id-1 input.sk-toggleable__control:checked~div.sk-toggleable__content {max-height: 200px;max-width: 100%;overflow: auto;}#sk-container-id-1 input.sk-toggleable__control:checked~label.sk-toggleable__label-arrow:before {content: \"▾\";}#sk-container-id-1 div.sk-estimator input.sk-toggleable__control:checked~label.sk-toggleable__label {background-color: #d4ebff;}#sk-container-id-1 div.sk-label input.sk-toggleable__control:checked~label.sk-toggleable__label {background-color: #d4ebff;}#sk-container-id-1 input.sk-hidden--visually {border: 0;clip: rect(1px 1px 1px 1px);clip: rect(1px, 1px, 1px, 1px);height: 1px;margin: -1px;overflow: hidden;padding: 0;position: absolute;width: 1px;}#sk-container-id-1 div.sk-estimator {font-family: monospace;background-color: #f0f8ff;border: 1px dotted black;border-radius: 0.25em;box-sizing: border-box;margin-bottom: 0.5em;}#sk-container-id-1 div.sk-estimator:hover {background-color: #d4ebff;}#sk-container-id-1 div.sk-parallel-item::after {content: \"\";width: 100%;border-bottom: 1px solid gray;flex-grow: 1;}#sk-container-id-1 div.sk-label:hover label.sk-toggleable__label {background-color: #d4ebff;}#sk-container-id-1 div.sk-serial::before {content: \"\";position: absolute;border-left: 1px solid gray;box-sizing: border-box;top: 0;bottom: 0;left: 50%;z-index: 0;}#sk-container-id-1 div.sk-serial {display: flex;flex-direction: column;align-items: center;background-color: white;padding-right: 0.2em;padding-left: 0.2em;position: relative;}#sk-container-id-1 div.sk-item {position: relative;z-index: 1;}#sk-container-id-1 div.sk-parallel {display: flex;align-items: stretch;justify-content: center;background-color: white;position: relative;}#sk-container-id-1 div.sk-item::before, #sk-container-id-1 div.sk-parallel-item::before {content: \"\";position: absolute;border-left: 1px solid gray;box-sizing: border-box;top: 0;bottom: 0;left: 50%;z-index: -1;}#sk-container-id-1 div.sk-parallel-item {display: flex;flex-direction: column;z-index: 1;position: relative;background-color: white;}#sk-container-id-1 div.sk-parallel-item:first-child::after {align-self: flex-end;width: 50%;}#sk-container-id-1 div.sk-parallel-item:last-child::after {align-self: flex-start;width: 50%;}#sk-container-id-1 div.sk-parallel-item:only-child::after {width: 0;}#sk-container-id-1 div.sk-dashed-wrapped {border: 1px dashed gray;margin: 0 0.4em 0.5em 0.4em;box-sizing: border-box;padding-bottom: 0.4em;background-color: white;}#sk-container-id-1 div.sk-label label {font-family: monospace;font-weight: bold;display: inline-block;line-height: 1.2em;}#sk-container-id-1 div.sk-label-container {text-align: center;}#sk-container-id-1 div.sk-container {/* jupyter's `normalize.less` sets `[hidden] { display: none; }` but bootstrap.min.css set `[hidden] { display: none !important; }` so we also need the `!important` here to be able to override the default hidden behavior on the sphinx rendered scikit-learn.org. See: https://github.com/scikit-learn/scikit-learn/issues/21755 */display: inline-block !important;position: relative;}#sk-container-id-1 div.sk-text-repr-fallback {display: none;}</style><div id=\"sk-container-id-1\" class=\"sk-top-container\"><div class=\"sk-text-repr-fallback\"><pre>RandomForestClassifier(max_depth=20, n_estimators=1000, n_jobs=-1,\n",
       "                       random_state=10)</pre><b>In a Jupyter environment, please rerun this cell to show the HTML representation or trust the notebook. <br />On GitHub, the HTML representation is unable to render, please try loading this page with nbviewer.org.</b></div><div class=\"sk-container\" hidden><div class=\"sk-item\"><div class=\"sk-estimator sk-toggleable\"><input class=\"sk-toggleable__control sk-hidden--visually\" id=\"sk-estimator-id-1\" type=\"checkbox\" checked><label for=\"sk-estimator-id-1\" class=\"sk-toggleable__label sk-toggleable__label-arrow\">RandomForestClassifier</label><div class=\"sk-toggleable__content\"><pre>RandomForestClassifier(max_depth=20, n_estimators=1000, n_jobs=-1,\n",
       "                       random_state=10)</pre></div></div></div></div></div>"
      ],
      "text/plain": [
       "RandomForestClassifier(max_depth=20, n_estimators=1000, n_jobs=-1,\n",
       "                       random_state=10)"
      ]
     },
     "execution_count": 17,
     "metadata": {},
     "output_type": "execute_result"
    }
   ],
   "source": [
    "#Training the RF model\n",
    "X_train = df_train[['ASA', 'eTH', 'eU','MDT','INDICELATE']]  # Replace with your actual feature names\n",
    "y_train = df_train['Cod_Litho']\n",
    "\n",
    "model = RandomForestClassifier(max_depth=20, n_estimators=1000, random_state=10, n_jobs=-1)\n",
    "model.fit(X_train, y_train)\n"
   ]
  },
  {
   "cell_type": "code",
   "execution_count": 6,
   "metadata": {},
   "outputs": [
    {
     "name": "stdout",
     "output_type": "stream",
     "text": [
      "Cross-validation scores: [0.87893661 0.84294479 0.90429448 0.86134969 0.85071575 0.89279869\n",
      " 0.88338789 0.89075286 0.86211129 0.8195581 ]\n",
      "Mean Accuracy: 0.8686850146763998\n"
     ]
    }
   ],
   "source": [
    "# Perform 10-fold cross-validation\n",
    "cv_scores = cross_val_score(model, X_train, y_train, cv=10)\n",
    "\n",
    "# Display the cross-validation scores\n",
    "print(\"Cross-validation scores:\", cv_scores)\n",
    "\n",
    "# Calculate and display the mean accuracy\n",
    "mean_accuracy = np.mean(cv_scores)\n",
    "print(\"Mean Accuracy:\", mean_accuracy)"
   ]
  },
  {
   "cell_type": "code",
   "execution_count": 7,
   "metadata": {},
   "outputs": [],
   "source": [
    "#Making the  predictions\n",
    "X_predict = df_test[['ASA', 'eTH', 'eU','MDT','INDICELATE']]\n",
    "\n",
    "predictions = model.predict(X_predict)\n",
    "\n",
    "df_test['Predicted Lithology'] = predictions\n"
   ]
  },
  {
   "cell_type": "code",
   "execution_count": 8,
   "metadata": {},
   "outputs": [
    {
     "name": "stdout",
     "output_type": "stream",
     "text": [
      "\n",
      "Testing Dataset with Predicted Lithology:\n",
      "\n",
      "            ASA      eTH      eU      MDT  INDICELATE  Cod_Litho\n",
      "0      0.006685  11.7470  1.0710  976.020    1.475434          4\n",
      "1      0.006665  11.4764  1.0563  976.726    1.475843          4\n",
      "2      0.006671  11.2058  1.0416  977.432    1.476262          4\n",
      "3      0.006664  10.9352  1.0269  978.138    1.476691          4\n",
      "4      0.006644  10.6646  1.0122  978.844    1.477132          4\n",
      "...         ...      ...     ...      ...         ...        ...\n",
      "94381  0.336814  22.7308  3.3200  855.588    1.562648          5\n",
      "94382  0.330807  22.4016  3.6115  856.146    1.564265          5\n",
      "94383  0.304360  22.0724  3.9030  856.704    1.565592          5\n",
      "94384  0.296842  21.7432  4.1945  857.262    1.566686          5\n",
      "94385  0.283309  21.4140  4.4860  857.820    1.567590          5\n",
      "\n",
      "[94386 rows x 6 columns]\n"
     ]
    }
   ],
   "source": [
    "#Display the predictions\n",
    "df_test['Cod_Litho'] = predictions\n",
    "print(\"\\nTesting Dataset with Predicted Lithology:\\n\")\n",
    "print(df_test[['ASA', 'eTH', 'eU','MDT','INDICELATE','Cod_Litho']])"
   ]
  },
  {
   "cell_type": "code",
   "execution_count": 9,
   "metadata": {},
   "outputs": [
    {
     "data": {
      "text/plain": [
       "Cod_Litho\n",
       "5    45630\n",
       "2    20420\n",
       "3     9729\n",
       "4     9605\n",
       "0     5623\n",
       "1     3379\n",
       "Name: count, dtype: int64"
      ]
     },
     "execution_count": 9,
     "metadata": {},
     "output_type": "execute_result"
    }
   ],
   "source": [
    "df_test['Cod_Litho'].value_counts()\n"
   ]
  },
  {
   "cell_type": "code",
   "execution_count": 26,
   "metadata": {},
   "outputs": [
    {
     "name": "stdout",
     "output_type": "stream",
     "text": [
      "Accuracy: 1.0\n",
      "Log Loss: 0.17194093232514243\n",
      "\n",
      "Testing Dataset with Predicted Probabilities:\n",
      "\n",
      "       Cod_Litho  Predicted_Probabilities\n",
      "0              4                    0.969\n",
      "1              4                    0.967\n",
      "2              4                    0.969\n",
      "3              4                    0.968\n",
      "4              4                    0.970\n",
      "...          ...                      ...\n",
      "94381          5                    0.683\n",
      "94382          5                    0.675\n",
      "94383          5                    0.701\n",
      "94384          5                    0.711\n",
      "94385          5                    0.719\n",
      "\n",
      "[94386 rows x 2 columns]\n"
     ]
    }
   ],
   "source": [
    "#Calculating the probabilistic and log loss function\n",
    "y_prob = df_test['Cod_Litho']\n",
    "\n",
    "X_pred = df_test[['ASA', 'eTH', 'eU','MDT','INDICELATE']]\n",
    "\n",
    "# Make probabilistic predictions\n",
    "probabilities = model.predict_proba(X_pred)\n",
    "\n",
    "class_names = model.classes_\n",
    "\n",
    "threshold = 0.5\n",
    "\n",
    "# Convert probabilities to predicted classes based on the threshold\n",
    "pred1 = np.argmax(probabilities, axis=1)\n",
    "predicted_probs = np.max(probabilities, axis=1)\n",
    "\n",
    "# Calculate and print the accuracy score\n",
    "accuracy = accuracy_score(y_prob, pred1)\n",
    "print(f\"Accuracy: {accuracy}\")\n",
    "\n",
    "# Calculate and print the log loss (for probabilistic models)\n",
    "logloss = log_loss(y_prob, probabilities, labels=class_names)\n",
    "print(f\"Log Loss: {logloss}\")\n",
    "\n",
    "# Optionally, you can print the predicted probabilities for further analysis\n",
    "df_test['Predicted_Probabilities'] = predicted_probs\n",
    "print(\"\\nTesting Dataset with Predicted Probabilities:\\n\")\n",
    "print(df_test[['Cod_Litho', 'Predicted_Probabilities']])\n"
   ]
  },
  {
   "cell_type": "code",
   "execution_count": 67,
   "metadata": {},
   "outputs": [
    {
     "name": "stdout",
     "output_type": "stream",
     "text": [
      "Mean Probabilities Per Class:\n",
      "0.85833866418473\n"
     ]
    }
   ],
   "source": [
    "mean_probabilities_per_class = np.mean(predicted_probs, axis=0)\n",
    "\n",
    "# Print or use the mean probabilities per class as needed\n",
    "print(\"Mean Probabilities Per Class:\")\n",
    "print(mean_probabilities_per_class)"
   ]
  },
  {
   "cell_type": "code",
   "execution_count": 68,
   "metadata": {},
   "outputs": [
    {
     "name": "stdout",
     "output_type": "stream",
     "text": [
      "Class 0 = Mean Probability: 0.062115381607219224\n",
      "Class 1 = Mean Probability: 0.034024209098809786\n",
      "Class 2 = Mean Probability: 0.21374798642970272\n",
      "Class 3 = Mean Probability: 0.1051387735921781\n",
      "Class 4 = Mean Probability: 0.1044271024659439\n",
      "Class 5 = Mean Probability: 0.48054654680617737\n"
     ]
    }
   ],
   "source": [
    "mean_probabilities_per_class = np.mean(probabilities, axis=0)\n",
    "\n",
    "# Print or use the mean probabilities per class as needed\n",
    "for i, mean_prob in enumerate(mean_probabilities_per_class):\n",
    "    print(f\"Class {i} = Mean Probability: {mean_prob}\")"
   ]
  },
  {
   "cell_type": "code",
   "execution_count": 41,
   "metadata": {},
   "outputs": [
    {
     "name": "stdout",
     "output_type": "stream",
     "text": [
      "Accuracy: 1.0\n",
      "Log Loss: 0.17194093232514243\n",
      "\n",
      "Testing Dataset with Predicted Probabilities:\n",
      "\n",
      "       Cod_Litho  Predicted_Probabilities\n",
      "0              4                    0.969\n",
      "1              4                    0.967\n",
      "2              4                    0.969\n",
      "3              4                    0.968\n",
      "4              4                    0.970\n",
      "...          ...                      ...\n",
      "94381          5                    0.683\n",
      "94382          5                    0.675\n",
      "94383          5                    0.701\n",
      "94384          5                    0.711\n",
      "94385          5                    0.719\n",
      "\n",
      "[94386 rows x 2 columns]\n"
     ]
    }
   ],
   "source": [
    "# Assuming 'y_prob' is the true labels\n",
    "y_true = df_test['Cod_Litho']\n",
    "\n",
    "# Assuming 'X_pred' contains the features for prediction\n",
    "X_pred = df_test[['ASA', 'eTH', 'eU', 'MDT', 'INDICELATE']]\n",
    "\n",
    "# Make probabilistic predictions\n",
    "probabilities = model.predict_proba(X_pred)\n",
    "\n",
    "class_names = model.classes_\n",
    "\n",
    "threshold = 0.5\n",
    "\n",
    "# Convert probabilities to predicted classes based on the threshold\n",
    "pred_classes = np.argmax(probabilities, axis=1)\n",
    "\n",
    "# Calculate and print the accuracy score\n",
    "accuracy = accuracy_score(y_true, pred_classes)\n",
    "print(f\"Accuracy: {accuracy}\")\n",
    "\n",
    "# Calculate and print the log loss (for probabilistic models)\n",
    "logloss = log_loss(y_true, probabilities)\n",
    "print(f\"Log Loss: {logloss}\")\n",
    "\n",
    "# Optionally, you can print the predicted probabilities for further analysis\n",
    "df_test['Predicted_Probabilities'] = np.max(probabilities, axis=1)\n",
    "print(\"\\nTesting Dataset with Predicted Probabilities:\\n\")\n",
    "print(df_test[['Cod_Litho', 'Predicted_Probabilities']])\n",
    "\n",
    "\n",
    "#'probabilities' stores the raw probabilities for each class, while \"predicted_probs\" stores the maximum probability for each precition. The choice between them depends on your specific analysis and what information you find most relevant\n",
    "#If you are interested in the overall distribution of probabilities, you might use the raw \"probabilities\". If you are focusing on the most likely class for each prediction, you might use \"Predicted_Probs\"."
   ]
  },
  {
   "cell_type": "code",
   "execution_count": 46,
   "metadata": {},
   "outputs": [
    {
     "data": {
      "image/png": "[encoded data removed]",
      "text/plain": [
       "<Figure size 640x480 with 1 Axes>"
      ]
     },
     "metadata": {},
     "output_type": "display_data"
    }
   ],
   "source": [
    "#Plotting Distribution of Frequency x Predicted Probability\n",
    "sns.histplot(predicted_probs, kde=True)\n",
    "plt.xlabel('Maximum Predicted Probability')\n",
    "plt.ylabel('Frequency')\n",
    "plt.title('Distribution of Maximum Predicted Probabilities')\n",
    "plt.show()"
   ]
  },
  {
   "cell_type": "code",
   "execution_count": 43,
   "metadata": {},
   "outputs": [
    {
     "ename": "ImportError",
     "evalue": "cannot import name 'reliability_diagram' from 'sklearn.calibration' (c:\\Users\\Geologia\\AppData\\Local\\Programs\\Python\\Python312\\Lib\\site-packages\\sklearn\\calibration.py)",
     "output_type": "error",
     "traceback": [
      "\u001b[1;31m---------------------------------------------------------------------------\u001b[0m",
      "\u001b[1;31mImportError\u001b[0m                               Traceback (most recent call last)",
      "Cell \u001b[1;32mIn[43], line 3\u001b[0m\n\u001b[0;32m      1\u001b[0m \u001b[38;5;66;03m#Reliability Diagram\u001b[39;00m\n\u001b[1;32m----> 3\u001b[0m \u001b[38;5;28;01mfrom\u001b[39;00m \u001b[38;5;21;01msklearn\u001b[39;00m\u001b[38;5;21;01m.\u001b[39;00m\u001b[38;5;21;01mcalibration\u001b[39;00m \u001b[38;5;28;01mimport\u001b[39;00m reliability_diagram\n\u001b[0;32m      5\u001b[0m fig, ax \u001b[38;5;241m=\u001b[39m plt\u001b[38;5;241m.\u001b[39msubplots()\n\u001b[0;32m      6\u001b[0m reliability_diagram(ax\u001b[38;5;241m=\u001b[39max, y_true\u001b[38;5;241m=\u001b[39my_true_bin\u001b[38;5;241m.\u001b[39mravel(), probas_list\u001b[38;5;241m=\u001b[39m[predicted_probs[:, i] \u001b[38;5;28;01mfor\u001b[39;00m i \u001b[38;5;129;01min\u001b[39;00m \u001b[38;5;28mrange\u001b[39m(n_classes)])\n",
      "\u001b[1;31mImportError\u001b[0m: cannot import name 'reliability_diagram' from 'sklearn.calibration' (c:\\Users\\Geologia\\AppData\\Local\\Programs\\Python\\Python312\\Lib\\site-packages\\sklearn\\calibration.py)"
     ]
    }
   ],
   "source": [
    "#Reliability Diagram\n",
    "\n",
    "from sklearn.calibration import reliability_diagram\n",
    "\n",
    "fig, ax = plt.subplots()\n",
    "reliability_diagram(ax=ax, y_true=y_true_bin.ravel(), probas_list=[predicted_probs[:, i] for i in range(n_classes)])\n",
    "plt.title('Reliability Diagram')\n",
    "plt.show()"
   ]
  },
  {
   "cell_type": "code",
   "execution_count": 71,
   "metadata": {},
   "outputs": [],
   "source": [
    "#Saving into a New CSV to interpoplate\n",
    "file_predictions_csv = pd.DataFrame(\n",
    "    {\n",
    "        'FID': df_test[\"FID\"],\n",
    "        'ASA': df_test[\"ASA\"],\n",
    "        'CTEXP': df_test[\"CTEXP\"],\n",
    "        'eTH': df_test[\"eTH\"],\n",
    "        'eU': df_test[\"eU\"],\n",
    "        'KPERC': df_test[\"KPERC\"],\n",
    "        'MAGIGRF':df_test['MAGIGRF'],              \n",
    "        'MDT': df_test[\"MDT\"],\n",
    "        'ThetaMap': df_test[\"ThetaMap\"],\n",
    "        'THKRAZAO': df_test[\"THKRAZAO\"],\n",
    "        'UKRAZAO': df_test[\"UKRAZAO\"],\n",
    "        'UTHRAZAO': df_test[\"UTHRAZAO\"],\n",
    "        'X': df_test[\"X\"],\n",
    "        'Y': df_test[\"Y\"],\n",
    "        'Cod_Litho': predictions,\n",
    "        'INDICELATE': df_test[\"INDICELATE\"],\n",
    "        'Predicted Probabilities':df_test['Predicted_Probabilities']\n",
    "    }\n",
    ")\n",
    "\n",
    "csv_file_path = 'D:/TCC/3013_Litho_Test_Pred.csv'\n",
    "file_predictions_csv.to_csv(csv_file_path, index=False)"
   ]
  },
  {
   "cell_type": "code",
   "execution_count": 35,
   "metadata": {},
   "outputs": [],
   "source": []
  },
  {
   "cell_type": "code",
   "execution_count": null,
   "metadata": {},
   "outputs": [],
   "source": []
  }
 ],
 "metadata": {
  "kernelspec": {
   "display_name": "Python 3",
   "language": "python",
   "name": "python3"
  },
  "language_info": {
   "codemirror_mode": {
    "name": "ipython",
    "version": 3
   },
   "file_extension": ".py",
   "mimetype": "text/x-python",
   "name": "python",
   "nbconvert_exporter": "python",
   "pygments_lexer": "ipython3",
   "version": "3.12.1"
  }
 },
 "nbformat": 4,
 "nbformat_minor": 2
}
